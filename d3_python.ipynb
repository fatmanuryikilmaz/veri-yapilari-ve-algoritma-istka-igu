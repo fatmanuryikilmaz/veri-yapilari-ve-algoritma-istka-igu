{
  "nbformat": 4,
  "nbformat_minor": 0,
  "metadata": {
    "colab": {
      "provenance": []
    },
    "kernelspec": {
      "name": "python3",
      "display_name": "Python 3"
    },
    "language_info": {
      "name": "python"
    }
  },
  "cells": [
    {
      "cell_type": "code",
      "execution_count": 1,
      "metadata": {
        "colab": {
          "base_uri": "https://localhost:8080/"
        },
        "id": "HTBE3l09xKui",
        "outputId": "05ce73a8-7cc4-4dd9-9a56-fbb9262378f6"
      },
      "outputs": [
        {
          "output_type": "stream",
          "name": "stdout",
          "text": [
            "merhaba İGÜ, Ders 3\n"
          ]
        }
      ],
      "source": [
        "print(\"merhaba İGÜ, Ders 3\")"
      ]
    },
    {
      "cell_type": "code",
      "source": [
        "import sys\n",
        "print(sys.version)"
      ],
      "metadata": {
        "colab": {
          "base_uri": "https://localhost:8080/"
        },
        "id": "UjVmhU69xW7e",
        "outputId": "c9b92439-31fe-4922-af0b-177949203db2"
      },
      "execution_count": 2,
      "outputs": [
        {
          "output_type": "stream",
          "name": "stdout",
          "text": [
            "3.10.12 (main, Jul 29 2024, 16:56:48) [GCC 11.4.0]\n"
          ]
        }
      ]
    },
    {
      "cell_type": "code",
      "source": [
        "from google.colab import drive\n",
        "drive.mount('/content/drive')"
      ],
      "metadata": {
        "colab": {
          "base_uri": "https://localhost:8080/"
        },
        "id": "8b4f0iQyxcQN",
        "outputId": "f9f879ea-c3cb-47ab-b21d-9ac3ae5994f8"
      },
      "execution_count": 3,
      "outputs": [
        {
          "output_type": "stream",
          "name": "stdout",
          "text": [
            "Mounted at /content/drive\n"
          ]
        }
      ]
    },
    {
      "cell_type": "code",
      "source": [
        "import os\n",
        "os.chdir('/content/drive/My Drive/VERIYAPILARI_ISTKA')"
      ],
      "metadata": {
        "id": "FAPJuQQkxs8-"
      },
      "execution_count": 4,
      "outputs": []
    },
    {
      "cell_type": "code",
      "source": [
        "#if koşul yapısı\n",
        "x=10\n",
        "if x>5:\n",
        "  print(x,\" 5'ten büyüktür.\")"
      ],
      "metadata": {
        "colab": {
          "base_uri": "https://localhost:8080/"
        },
        "id": "WahR74xOx59_",
        "outputId": "ad12a7c8-e492-4148-cf17-6bb9c03708d1"
      },
      "execution_count": 9,
      "outputs": [
        {
          "output_type": "stream",
          "name": "stdout",
          "text": [
            "10  5'ten büyüktür.\n"
          ]
        }
      ]
    },
    {
      "cell_type": "code",
      "source": [
        "#if-else koşul yapısı\n",
        "x=3\n",
        "if x>5:\n",
        "   print(x,\"5'ten büyüktür.\")\n",
        "else:\n",
        "   print(x,\"5'ten küçük veya eşittir.\")"
      ],
      "metadata": {
        "colab": {
          "base_uri": "https://localhost:8080/"
        },
        "id": "Q6Hzgi7G4ejH",
        "outputId": "0b27842f-483d-45d2-bc3a-50460402b925"
      },
      "execution_count": 10,
      "outputs": [
        {
          "output_type": "stream",
          "name": "stdout",
          "text": [
            "3 5'ten küçük veya eşittir.\n"
          ]
        }
      ]
    },
    {
      "cell_type": "code",
      "source": [
        "#if-elif-else koşul yapısı\n",
        "x=8\n",
        "if x>10:\n",
        "   print(\"x, 10'dan büyüktür.\")\n",
        "elif x>5:\n",
        "   print(\"x, 5'ten büyüktür ve 10'dan küçük veya eşittir.\")\n",
        "else:\n",
        "   print(\"x, 5'ten küçük veya eşittir.\")"
      ],
      "metadata": {
        "colab": {
          "base_uri": "https://localhost:8080/"
        },
        "id": "jdh1GZFt6HJ4",
        "outputId": "3b858225-e60a-4582-fe10-5995635e4564"
      },
      "execution_count": 14,
      "outputs": [
        {
          "output_type": "stream",
          "name": "stdout",
          "text": [
            "x, 5'ten büyüktür ve 10'dan küçük veya eşittir.\n"
          ]
        }
      ]
    },
    {
      "cell_type": "code",
      "source": [
        "#iç içe koşul yapısı\n",
        "x=12\n",
        "y=8\n",
        "if x>10:\n",
        "  if y>5:\n",
        "    print(\"x, 10'dan büyük ve y, 5'ten büyüktür.\")\n",
        "  else:\n",
        "    print(\"x, 10'dan büyük ama y, 5'ten küçük veya eşittir.\")\n",
        "else:\n",
        "  print(\"x, 10'dan küçük veya eşittir.\")"
      ],
      "metadata": {
        "colab": {
          "base_uri": "https://localhost:8080/"
        },
        "id": "HoLo9hHfCzri",
        "outputId": "def31afa-f5d0-464f-dbfb-da39cc4d123c"
      },
      "execution_count": 15,
      "outputs": [
        {
          "output_type": "stream",
          "name": "stdout",
          "text": [
            "x, 10'dan büyük ve y, 5'ten büyüktür.\n"
          ]
        }
      ]
    },
    {
      "cell_type": "code",
      "source": [
        "#mantıksal operatörler ile koşullar\n",
        "x=7\n",
        "y=3\n",
        "#and operatörü\n",
        "if x>5 and y>2:\n",
        "  print(\"x 5'ten büyük ve y, 2'den büyüktür.\")\n",
        "#or operatörü\n",
        "if x>5 or y>2:\n",
        "  print(\"x veya y, 5'ten büyüktür.\")\n",
        "#not operatörü\n",
        "if not(x>10):\n",
        "  print(\"x 10'dan büyük değildir\")"
      ],
      "metadata": {
        "colab": {
          "base_uri": "https://localhost:8080/"
        },
        "id": "8l0DPVQNEchF",
        "outputId": "ad7a3ea3-e176-4708-aef5-1e21690d6aa0"
      },
      "execution_count": 16,
      "outputs": [
        {
          "output_type": "stream",
          "name": "stdout",
          "text": [
            "x 5'ten büyük ve y, 2'den büyüktür.\n",
            "x veya y, 5'ten büyüktür.\n",
            "x 10'dan büyük değildir\n"
          ]
        }
      ]
    },
    {
      "cell_type": "code",
      "source": [
        "#örnek 1: not sistemi\n",
        "notu=85 #not farkı gösterilecek...\n",
        "if notu>=90:\n",
        "  print(\"Harf notu: A\")\n",
        "elif notu>=80:\n",
        "  print(\"Harf notu: B\")\n",
        "elif notu>=70:\n",
        "  print(\"Harf notu: C\")\n",
        "elif notu>=60:\n",
        "  print(\"Harf notu: D\")\n",
        "else:\n",
        "  print(\"Harf notu: F\")\n"
      ],
      "metadata": {
        "colab": {
          "base_uri": "https://localhost:8080/"
        },
        "id": "7YseemvNGxEV",
        "outputId": "3e9572d7-6063-4cfa-a0a2-ea361d81b820"
      },
      "execution_count": 17,
      "outputs": [
        {
          "output_type": "stream",
          "name": "stdout",
          "text": [
            "Harf notu: B\n"
          ]
        }
      ]
    },
    {
      "cell_type": "code",
      "source": [
        "#örnek 2: yaş kontrolü\n",
        "yas=20\n",
        "if yas<18:\n",
        "  print(\"reşit değilsiniz.\")\n",
        "elif yas<21:\n",
        "  print(\"reşit olmanız içecek alabileceğiniz anlamına gelmez.\")\n",
        "else:\n",
        "  print(\"bir içeceğe ne dersiniz? :)\")"
      ],
      "metadata": {
        "colab": {
          "base_uri": "https://localhost:8080/"
        },
        "id": "TXYYuGwNHfYq",
        "outputId": "24e4dc9d-d2ed-4d05-d28f-87b5076b1e1e"
      },
      "execution_count": 19,
      "outputs": [
        {
          "output_type": "stream",
          "name": "stdout",
          "text": [
            "reşit olmanız içecek alabileceğiniz anlamına gelmez.\n"
          ]
        }
      ]
    },
    {
      "cell_type": "code",
      "source": [
        "#örnek 3: sayı pozitif, negatif veya sıfır mı?\n",
        "sayi=int(input(\"Bir sayı giriniz:\"))\n",
        "\n",
        "if sayi>0:\n",
        "  print(\"sayı pozitiftir.\")\n",
        "elif sayi<0:\n",
        "  print(\"sayı negatiftir.\")\n",
        "else:\n",
        "  print(\"sayı sıfırdır.\")"
      ],
      "metadata": {
        "colab": {
          "base_uri": "https://localhost:8080/"
        },
        "id": "X2yui8KyIvE4",
        "outputId": "ed5df526-7656-4701-ba91-f458985e95ff"
      },
      "execution_count": 20,
      "outputs": [
        {
          "output_type": "stream",
          "name": "stdout",
          "text": [
            "Bir sayı giriniz:2\n",
            "sayı pozitiftir.\n"
          ]
        }
      ]
    },
    {
      "cell_type": "code",
      "source": [],
      "metadata": {
        "id": "1YCF7xz4Jcjr"
      },
      "execution_count": null,
      "outputs": []
    }
  ]
}